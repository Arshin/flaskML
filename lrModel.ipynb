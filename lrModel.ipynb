{
 "cells": [
  {
   "cell_type": "code",
   "execution_count": 1,
   "source": [
    "from scipy import signal\r\n",
    "from sklearn.preprocessing import StandardScaler\r\n",
    "from sklearn.svm import OneClassSVM\r\n",
    "from pathlib import Path\r\n",
    "import pandas as pd\r\n",
    "import numpy as np\r\n",
    "import matplotlib.pyplot as plt\r\n",
    "from sklearn import model_selection\r\n",
    "from sklearn.linear_model import LogisticRegression\r\n",
    "import pickle"
   ],
   "outputs": [],
   "metadata": {}
  },
  {
   "cell_type": "code",
   "execution_count": 2,
   "source": [
    "url = \"https://raw.githubusercontent.com/jbrownlee/Datasets/master/pima-indians-diabetes.data.csv\"\r\n",
    "names = ['preg', 'plas', 'pres', 'skin', 'test', 'mass', 'pedi', 'age', 'class']\r\n",
    "dataframe = pd.read_csv(url, names=names)\r\n",
    "array = dataframe.values\r\n",
    "X = array[:,0:8]\r\n",
    "Y = array[:,8]\r\n",
    "test_size = 0.33\r\n",
    "seed = 7\r\n",
    "X_train, X_test, Y_train, Y_test = model_selection.train_test_split(X, Y, test_size=test_size, random_state=seed)\r\n",
    "# Fit the model on training set\r\n",
    "model = LogisticRegression()\r\n",
    "model.fit(X_train, Y_train)"
   ],
   "outputs": [
    {
     "output_type": "stream",
     "name": "stderr",
     "text": [
      "c:\\Users\\ArashAshtiani\\OneDrive - Cubic Farms\\Documents\\Projects\\HG\\Motor Trends\\Code\\py39\\lib\\site-packages\\sklearn\\linear_model\\_logistic.py:763: ConvergenceWarning: lbfgs failed to converge (status=1):\n",
      "STOP: TOTAL NO. of ITERATIONS REACHED LIMIT.\n",
      "\n",
      "Increase the number of iterations (max_iter) or scale the data as shown in:\n",
      "    https://scikit-learn.org/stable/modules/preprocessing.html\n",
      "Please also refer to the documentation for alternative solver options:\n",
      "    https://scikit-learn.org/stable/modules/linear_model.html#logistic-regression\n",
      "  n_iter_i = _check_optimize_result(\n"
     ]
    },
    {
     "output_type": "execute_result",
     "data": {
      "text/plain": [
       "LogisticRegression()"
      ]
     },
     "metadata": {},
     "execution_count": 2
    }
   ],
   "metadata": {}
  },
  {
   "cell_type": "code",
   "execution_count": 3,
   "source": [
    "# save the model to disk\r\n",
    "filename = 'finalized_model.sav'\r\n",
    "pickle.dump(model, open(filename, 'wb'))"
   ],
   "outputs": [],
   "metadata": {}
  },
  {
   "cell_type": "code",
   "execution_count": 31,
   "source": [
    "# load the model from disk\r\n",
    "loaded_model = pickle.load(open(filename, 'rb'))\r\n",
    "xtest = X_test[50]\r\n",
    "ytest = Y_test[50]\r\n",
    "result = loaded_model.score([xtest], [ytest])\r\n",
    "prediction = loaded_model.predict([xtest])\r\n",
    "print(prediction, ytest)"
   ],
   "outputs": [
    {
     "output_type": "stream",
     "name": "stdout",
     "text": [
      "[0.] 0.0\n"
     ]
    }
   ],
   "metadata": {}
  },
  {
   "cell_type": "code",
   "execution_count": 24,
   "source": [
    "print([X_test[0]])"
   ],
   "outputs": [
    {
     "output_type": "stream",
     "name": "stdout",
     "text": [
      "[array([ 1.  , 90.  , 62.  , 12.  , 43.  , 27.2 ,  0.58, 24.  ])]\n"
     ]
    }
   ],
   "metadata": {}
  }
 ],
 "metadata": {
  "orig_nbformat": 4,
  "language_info": {
   "name": "python",
   "version": "3.9.6",
   "mimetype": "text/x-python",
   "codemirror_mode": {
    "name": "ipython",
    "version": 3
   },
   "pygments_lexer": "ipython3",
   "nbconvert_exporter": "python",
   "file_extension": ".py"
  },
  "kernelspec": {
   "name": "python3",
   "display_name": "Python 3.9.6 64-bit ('py39': venv)"
  },
  "interpreter": {
   "hash": "7ffffc4a0f1a07daefeebf0098822c4d7207b2f85c925413cc238dbf08fc8355"
  }
 },
 "nbformat": 4,
 "nbformat_minor": 2
}